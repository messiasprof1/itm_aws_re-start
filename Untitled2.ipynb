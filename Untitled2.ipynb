{
  "nbformat": 4,
  "nbformat_minor": 0,
  "metadata": {
    "colab": {
      "provenance": [],
      "authorship_tag": "ABX9TyMssiQYGy2Jhl3oy1ep7DyZ",
      "include_colab_link": true
    },
    "kernelspec": {
      "name": "python3",
      "display_name": "Python 3"
    },
    "language_info": {
      "name": "python"
    }
  },
  "cells": [
    {
      "cell_type": "markdown",
      "metadata": {
        "id": "view-in-github",
        "colab_type": "text"
      },
      "source": [
        "<a href=\"https://colab.research.google.com/github/messiasprof1/itm_aws_re-start/blob/main/Untitled2.ipynb\" target=\"_parent\"><img src=\"https://colab.research.google.com/assets/colab-badge.svg\" alt=\"Open In Colab\"/></a>"
      ]
    },
    {
      "cell_type": "code",
      "execution_count": 2,
      "metadata": {
        "colab": {
          "base_uri": "https://localhost:8080/"
        },
        "id": "PIru0HvXUf3u",
        "outputId": "71f3f4a1-0b23-4493-838c-5b38d2e6e9aa"
      },
      "outputs": [
        {
          "output_type": "stream",
          "name": "stdout",
          "text": [
            "junior\n"
          ]
        }
      ],
      "source": [
        "def conta_elemento_lista(lista_A):\n",
        "    contagem = {}\n",
        "\n",
        "    # Contar a ocorrência de cada aluno na lista\n",
        "    for aluno in lista_A:\n",
        "        if aluno in contagem:\n",
        "            contagem[aluno] += 1\n",
        "        else:\n",
        "            contagem[aluno] = 1\n",
        "\n",
        "    # Encontrar o aluno com o maior número de ocorrências\n",
        "    aluno_mais_frequente = max(contagem, key=contagem.get)\n",
        "\n",
        "    return aluno_mais_frequente\n",
        "\n",
        "# Exemplo de uso\n",
        "A = ['junior', 'junior', 'alice', 'cecilia', 'junior', 'carlos', 'carlos', 'alice']\n",
        "resultado = conta_elemento_lista(A)\n",
        "print(resultado)\n"
      ]
    }
  ]
}